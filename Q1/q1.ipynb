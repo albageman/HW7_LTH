{
 "cells": [
  {
   "cell_type": "code",
   "execution_count": 11,
   "id": "88a2bbec",
   "metadata": {},
   "outputs": [
    {
     "name": "stdout",
     "output_type": "stream",
     "text": [
      "Eigenvalues:  [-0.37228132  5.37228132]\n",
      "Eigenvectors: \n",
      " [[-0.82456484 -0.41597356]\n",
      " [ 0.56576746 -0.90937671]]\n",
      "Determinant:  -2\n",
      "Cross product:  [-3  6 -3]\n",
      "Solution: \n",
      " [[-1.]\n",
      " [-4.]\n",
      " [ 3.]]\n"
     ]
    }
   ],
   "source": [
    "import numpy as np\n",
    "\n",
    "arr = np.array([[1,2],[3,4]])\n",
    "vec1 = np.array([1,2,3])\n",
    "vec2 = np.array([4,5,6])\n",
    "A = np.array([[1,2,-2],[2,1,-5],[1,-4,1]])\n",
    "B = np.array([[-15],[-21],[18]])\n",
    "\n",
    "e1, e2 = np.linalg.eig(arr)\n",
    "print(\"Eigenvalues: \", e1)\n",
    "print(\"Eigenvectors: \\n\", e2)\n",
    "print(\"Determinant: \", int(np.linalg.det(arr)))\n",
    "print(\"Cross product: \", np.cross(vec1, vec2))\n",
    "print(\"Solution: \\n\", np.matmul(np.linalg.inv(A),B))"
   ]
  },
  {
   "cell_type": "code",
   "execution_count": null,
   "id": "2d1ee643",
   "metadata": {},
   "outputs": [],
   "source": []
  }
 ],
 "metadata": {
  "kernelspec": {
   "display_name": "Python 3 (ipykernel)",
   "language": "python",
   "name": "python3"
  },
  "language_info": {
   "codemirror_mode": {
    "name": "ipython",
    "version": 3
   },
   "file_extension": ".py",
   "mimetype": "text/x-python",
   "name": "python",
   "nbconvert_exporter": "python",
   "pygments_lexer": "ipython3",
   "version": "3.10.10"
  }
 },
 "nbformat": 4,
 "nbformat_minor": 5
}
